{
 "cells": [
  {
   "cell_type": "code",
   "execution_count": 55,
   "metadata": {},
   "outputs": [],
   "source": [
    "import xml.etree.ElementTree as ET\n",
    "import os "
   ]
  },
  {
   "cell_type": "code",
   "execution_count": 56,
   "metadata": {},
   "outputs": [],
   "source": [
    "def create_data_file(keywords):\n",
    "    folders = []\n",
    "    date=[]\n",
    "\n",
    "    for root, dirs, files in os.walk('C:\\\\Users\\\\sonal\\\\May\\\\05'):\n",
    "        for folder in dirs:\n",
    "            folders.append(os.path.join(root, folder))\n",
    "\n",
    "    file1 = open(\"C:\\\\Users\\\\sonal\\\\May\\\\DataF.txt\",\"w\") \n",
    "\n",
    "    for f in folders: #per dir\n",
    "        i=0\n",
    "        for file in os.listdir(f):\n",
    "            tree = ET.parse(f+'\\\\'+file) #per xml\n",
    "            root = tree.getroot()\n",
    "            #print(f+'\\\\'+file)\n",
    "            item_all=''\n",
    "            for item in root.findall('./body/body.content/block/p'): # all p in that xml\n",
    "                item_all+=(item.text)\n",
    "\n",
    "            if(item_all.find(keywords[0])>0 or item_all.find(keywords[1])>0):\n",
    "                file1.write(item_all)\n",
    "                file1.write(\"\\n\")\n",
    "                i+=1\n",
    "                \n",
    "        if (i>0):   \n",
    "            for node in tree.iter('pubdata'):\n",
    "                date.append(node.attrib.get('date.publication'))\n",
    "                #print(date)\n",
    "    return date"
   ]
  },
  {
   "cell_type": "code",
   "execution_count": 57,
   "metadata": {},
   "outputs": [],
   "source": [
    "def create_doc_file(date):\n",
    "\n",
    "    file2 = open(\"C:\\\\Users\\\\sonal\\\\May\\\\DocIdF.txt\",\"w\") \n",
    "\n",
    "    for dates in date:\n",
    "        file2.write(dates[0:8])\n",
    "        file2.write(\"\\n\")"
   ]
  },
  {
   "cell_type": "code",
   "execution_count": 58,
   "metadata": {},
   "outputs": [],
   "source": [
    "if __name__ == '__main__':\n",
    "    keywords=['Bush','Gore']\n",
    "    dates=create_data_file(keywords)\n",
    "    create_doc_file(dates)"
   ]
  },
  {
   "cell_type": "code",
   "execution_count": null,
   "metadata": {},
   "outputs": [],
   "source": []
  },
  {
   "cell_type": "code",
   "execution_count": null,
   "metadata": {},
   "outputs": [],
   "source": []
  }
 ],
 "metadata": {
  "kernelspec": {
   "display_name": "Python 3",
   "language": "python",
   "name": "python3"
  },
  "language_info": {
   "codemirror_mode": {
    "name": "ipython",
    "version": 3
   },
   "file_extension": ".py",
   "mimetype": "text/x-python",
   "name": "python",
   "nbconvert_exporter": "python",
   "pygments_lexer": "ipython3",
   "version": "3.7.3"
  }
 },
 "nbformat": 4,
 "nbformat_minor": 2
}

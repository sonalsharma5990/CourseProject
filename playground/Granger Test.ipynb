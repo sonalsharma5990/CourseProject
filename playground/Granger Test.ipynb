{
 "cells": [
  {
   "cell_type": "markdown",
   "metadata": {},
   "source": [
    "### Import libraries"
   ]
  },
  {
   "cell_type": "code",
   "execution_count": 31,
   "metadata": {},
   "outputs": [],
   "source": [
    "import pandas as pd\n",
    "import numpy as np\n",
    "from statsmodels.tsa.stattools import grangercausalitytests"
   ]
  },
  {
   "cell_type": "markdown",
   "metadata": {},
   "source": [
    "### Load Chicken Egg data"
   ]
  },
  {
   "cell_type": "code",
   "execution_count": 32,
   "metadata": {},
   "outputs": [
    {
     "data": {
      "text/html": [
       "<div>\n",
       "<style scoped>\n",
       "    .dataframe tbody tr th:only-of-type {\n",
       "        vertical-align: middle;\n",
       "    }\n",
       "\n",
       "    .dataframe tbody tr th {\n",
       "        vertical-align: top;\n",
       "    }\n",
       "\n",
       "    .dataframe thead th {\n",
       "        text-align: right;\n",
       "    }\n",
       "</style>\n",
       "<table border=\"1\" class=\"dataframe\">\n",
       "  <thead>\n",
       "    <tr style=\"text-align: right;\">\n",
       "      <th></th>\n",
       "      <th>chicken</th>\n",
       "      <th>egg</th>\n",
       "    </tr>\n",
       "  </thead>\n",
       "  <tbody>\n",
       "    <tr>\n",
       "      <th>0</th>\n",
       "      <td>468491</td>\n",
       "      <td>3581</td>\n",
       "    </tr>\n",
       "    <tr>\n",
       "      <th>1</th>\n",
       "      <td>449743</td>\n",
       "      <td>3532</td>\n",
       "    </tr>\n",
       "    <tr>\n",
       "      <th>2</th>\n",
       "      <td>436815</td>\n",
       "      <td>3327</td>\n",
       "    </tr>\n",
       "    <tr>\n",
       "      <th>3</th>\n",
       "      <td>444523</td>\n",
       "      <td>3255</td>\n",
       "    </tr>\n",
       "    <tr>\n",
       "      <th>4</th>\n",
       "      <td>433937</td>\n",
       "      <td>3156</td>\n",
       "    </tr>\n",
       "  </tbody>\n",
       "</table>\n",
       "</div>"
      ],
      "text/plain": [
       "   chicken   egg\n",
       "0   468491  3581\n",
       "1   449743  3532\n",
       "2   436815  3327\n",
       "3   444523  3255\n",
       "4   433937  3156"
      ]
     },
     "execution_count": 32,
     "metadata": {},
     "output_type": "execute_result"
    }
   ],
   "source": [
    "data2 = pd.read_csv('data2.csv')\n",
    "data2.head()"
   ]
  },
  {
   "cell_type": "markdown",
   "metadata": {},
   "source": [
    "### Run granger test"
   ]
  },
  {
   "cell_type": "code",
   "execution_count": 33,
   "metadata": {},
   "outputs": [
    {
     "name": "stdout",
     "output_type": "stream",
     "text": [
      "\n",
      "Granger Causality\n",
      "number of lags (no zero) 1\n",
      "ssr based F test:         F=1.2071  , p=0.2772  , df_denom=50, df_num=1\n",
      "ssr based chi2 test:   chi2=1.2795  , p=0.2580  , df=1\n",
      "likelihood ratio test: chi2=1.2643  , p=0.2608  , df=1\n",
      "parameter F test:         F=1.2071  , p=0.2772  , df_denom=50, df_num=1\n",
      "\n",
      "Granger Causality\n",
      "number of lags (no zero) 2\n",
      "ssr based F test:         F=8.8175  , p=0.0006  , df_denom=47, df_num=2\n",
      "ssr based chi2 test:   chi2=19.5110 , p=0.0001  , df=2\n",
      "likelihood ratio test: chi2=16.5676 , p=0.0003  , df=2\n",
      "parameter F test:         F=8.8175  , p=0.0006  , df_denom=47, df_num=2\n",
      "\n",
      "Granger Causality\n",
      "number of lags (no zero) 3\n",
      "ssr based F test:         F=5.4050  , p=0.0030  , df_denom=44, df_num=3\n",
      "ssr based chi2 test:   chi2=18.7946 , p=0.0003  , df=3\n",
      "likelihood ratio test: chi2=16.0003 , p=0.0011  , df=3\n",
      "parameter F test:         F=5.4050  , p=0.0030  , df_denom=44, df_num=3\n",
      "\n",
      "Granger Causality\n",
      "number of lags (no zero) 4\n",
      "ssr based F test:         F=4.2568  , p=0.0057  , df_denom=41, df_num=4\n",
      "ssr based chi2 test:   chi2=20.7647 , p=0.0004  , df=4\n",
      "likelihood ratio test: chi2=17.3669 , p=0.0016  , df=4\n",
      "parameter F test:         F=4.2568  , p=0.0057  , df_denom=41, df_num=4\n",
      "\n",
      "Granger Causality\n",
      "number of lags (no zero) 5\n",
      "ssr based F test:         F=4.7291  , p=0.0019  , df_denom=38, df_num=5\n",
      "ssr based chi2 test:   chi2=30.4900 , p=0.0000  , df=5\n",
      "likelihood ratio test: chi2=23.7067 , p=0.0002  , df=5\n",
      "parameter F test:         F=4.7291  , p=0.0019  , df_denom=38, df_num=5\n"
     ]
    }
   ],
   "source": [
    "gc_res = grangercausalitytests(data2, 5)"
   ]
  },
  {
   "cell_type": "markdown",
   "metadata": {},
   "source": [
    "### Minimum p-value <= 0.05 is best significance "
   ]
  },
  {
   "cell_type": "code",
   "execution_count": 34,
   "metadata": {},
   "outputs": [
    {
     "data": {
      "text/plain": [
       "2"
      ]
     },
     "execution_count": 34,
     "metadata": {},
     "output_type": "execute_result"
    }
   ],
   "source": [
    "min_p_value = 0.05\n",
    "best_lag = 0\n",
    "for k,v in gc_res.items():\n",
    "    if v[0]['ssr_ftest'][1] <= min_p_value:\n",
    "        best_lag = k\n",
    "        min_p_value = v[0]['ssr_ftest'][1]\n",
    "if not best_lag:\n",
    "    raise Exception('No causality between time series')\n",
    "best_lag    "
   ]
  },
  {
   "cell_type": "markdown",
   "metadata": {},
   "source": [
    "### Find impact\n",
    "Model-1 is $y_t = a_1 y_{t-1} +...+ a_p y_{t-p} + a_0 $.\n"
   ]
  },
  {
   "cell_type": "code",
   "execution_count": 35,
   "metadata": {},
   "outputs": [
    {
     "data": {
      "text/plain": [
       "array([7.57596079e-01, 1.14149450e-01, 5.19829118e+04])"
      ]
     },
     "execution_count": 35,
     "metadata": {},
     "output_type": "execute_result"
    }
   ],
   "source": [
    "# Model-1\n",
    "gc_res[best_lag][1][0].params"
   ]
  },
  {
   "cell_type": "markdown",
   "metadata": {},
   "source": [
    "Model-2 is $y_t = a_1 y_{t-1} +...+ a_p y_{t-p} + b_1 x_{t-1} +...+ b_p x_{t-p} + a_0$."
   ]
  },
  {
   "cell_type": "code",
   "execution_count": 36,
   "metadata": {},
   "outputs": [
    {
     "data": {
      "text/plain": [
       "array([ 3.27967397e-01,  4.64590640e-01,  8.92693021e+01, -9.42841738e+01,\n",
       "        1.05659724e+05])"
      ]
     },
     "execution_count": 36,
     "metadata": {},
     "output_type": "execute_result"
    }
   ],
   "source": [
    "# Model-2\n",
    "gc_res[best_lag][1][1].params"
   ]
  },
  {
   "cell_type": "markdown",
   "metadata": {},
   "source": [
    "We average the x term coefficients, $\\frac{\\sum\\nolimits_{i=1}^{p} b_i}{|p|}$, as an impact value from model-2."
   ]
  },
  {
   "cell_type": "code",
   "execution_count": 37,
   "metadata": {},
   "outputs": [
    {
     "data": {
      "text/plain": [
       "-2.5074358647527077"
      ]
     },
     "execution_count": 37,
     "metadata": {},
     "output_type": "execute_result"
    }
   ],
   "source": [
    "np.sum(gc_res[best_lag][1][1].params[best_lag:-1])/np.abs(best_lag)"
   ]
  },
  {
   "cell_type": "code",
   "execution_count": null,
   "metadata": {},
   "outputs": [],
   "source": []
  }
 ],
 "metadata": {
  "kernelspec": {
   "display_name": "Python 3",
   "language": "python",
   "name": "python3"
  },
  "language_info": {
   "codemirror_mode": {
    "name": "ipython",
    "version": 3
   },
   "file_extension": ".py",
   "mimetype": "text/x-python",
   "name": "python",
   "nbconvert_exporter": "python",
   "pygments_lexer": "ipython3",
   "version": "3.8.5"
  }
 },
 "nbformat": 4,
 "nbformat_minor": 4
}
